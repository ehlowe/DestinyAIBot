{
 "cells": [
  {
   "cell_type": "markdown",
   "metadata": {},
   "source": [
    "# Setup"
   ]
  },
  {
   "cell_type": "code",
   "execution_count": 3,
   "metadata": {},
   "outputs": [],
   "source": [
    "# Import everything and setup things\n",
    "import time\n",
    "import json\n",
    "import sys\n",
    "import os\n",
    "import datetime\n",
    "import math\n",
    "file_folder = os.getcwd()\n",
    "if \"testing_folder\" in file_folder:\n",
    "    file_folder = os.path.dirname(file_folder)\n",
    "    sys.path.append(file_folder)\n",
    "    os.chdir(file_folder)\n",
    "\n",
    "\n",
    "from youtube_transcript_api import YouTubeTranscriptApi\n",
    "\n",
    "import tiktoken\n",
    "enc=tiktoken.get_encoding(\"cl100k_base\")\n",
    "\n",
    "keys=json.load(open(\"working_folder/keys.json\"))\n",
    "\n",
    "import anthropic\n",
    "client = anthropic.Anthropic(api_key=keys[\"anthropic\"])\n",
    "\n",
    "from openai import OpenAI\n",
    "os.environ[\"OPENAI_API_KEY\"]=keys[\"openai\"]\n"
   ]
  },
  {
   "cell_type": "code",
   "execution_count": null,
   "metadata": {},
   "outputs": [],
   "source": [
    "# Cost calculation\n",
    "input_cost=0\n",
    "output_cost=0\n",
    "total_cost=input_cost+output_cost\n",
    "def get_cost(input_text,output_text):\n",
    "    global input_cost\n",
    "    global output_cost\n",
    "    global total_cost\n",
    "    input_cost+=len(enc.encode(input_text))*(3/1000000.0)\n",
    "    output_cost+=len(enc.encode(output_text))*(15/1000000.0)\n",
    "    total_cost=input_cost+output_cost"
   ]
  },
  {
   "cell_type": "code",
   "execution_count": null,
   "metadata": {},
   "outputs": [],
   "source": [
    "# Get raw transcript\n",
    "video_id=\"FC3giY7YDAQ\"\n",
    "raw_transcript=YouTubeTranscriptApi.get_transcript(video_id)\n",
    "transcript=\"\"\n",
    "nearest_times={}\n",
    "for m in raw_transcript:\n",
    "    print(m['text'], m[\"start\"])\n",
    "    transcript+=str(m['text'])+\"\\n\"\n",
    "    nearest_times[len(transcript)]=m[\"start\"]\n",
    "    if len(transcript)>50000:\n",
    "        break\n",
    "\n",
    "# save as transcript.txt\n",
    "with open(\"working_folder/transcript.txt\",\"w\") as f:\n",
    "    f.write(transcript)"
   ]
  },
  {
   "cell_type": "code",
   "execution_count": null,
   "metadata": {},
   "outputs": [],
   "source": [
    "# Get time of transcript\n",
    "def get_time_at_length_transcript(length):\n",
    "    i=0\n",
    "    while nearest_times.get(length-i,None)==None:\n",
    "        i+=1\n",
    "        if (length-i)<=0:\n",
    "            return list(nearest_times.values())[0]\n",
    "\n",
    "    return(nearest_times[length-i])"
   ]
  },
  {
   "cell_type": "markdown",
   "metadata": {},
   "source": [
    "# Incremental Summarization\n"
   ]
  },
  {
   "cell_type": "code",
   "execution_count": null,
   "metadata": {},
   "outputs": [],
   "source": [
    "import asyncio"
   ]
  },
  {
   "cell_type": "code",
   "execution_count": 1,
   "metadata": {},
   "outputs": [
    {
     "ename": "NameError",
     "evalue": "name 'transcript' is not defined",
     "output_type": "error",
     "traceback": [
      "\u001b[1;31m---------------------------------------------------------------------------\u001b[0m",
      "\u001b[1;31mNameError\u001b[0m                                 Traceback (most recent call last)",
      "Cell \u001b[1;32mIn[1], line 26\u001b[0m\n\u001b[0;32m     23\u001b[0m     \u001b[38;5;28;01mreturn\u001b[39;00m bot_response\n\u001b[0;32m     25\u001b[0m \u001b[38;5;66;03m# get a certain number of segments\u001b[39;00m\n\u001b[1;32m---> 26\u001b[0m \u001b[38;5;28;01mwhile\u001b[39;00m (\u001b[38;5;28mlen\u001b[39m(model_responses)\u001b[38;5;241m<\u001b[39msegments) \u001b[38;5;129;01mand\u001b[39;00m ((char_start_index\u001b[38;5;241m+\u001b[39mincrement_chars)\u001b[38;5;241m<\u001b[39m\u001b[38;5;241m=\u001b[39m\u001b[38;5;28mlen\u001b[39m(\u001b[43mtranscript\u001b[49m)):\n\u001b[0;32m     27\u001b[0m     input_transcript\u001b[38;5;241m=\u001b[39mtranscript[char_start_index:char_start_index\u001b[38;5;241m+\u001b[39mincrement_chars]\n\u001b[0;32m     28\u001b[0m     conv_messages\u001b[38;5;241m=\u001b[39m[{\u001b[38;5;124m\"\u001b[39m\u001b[38;5;124mrole\u001b[39m\u001b[38;5;124m\"\u001b[39m: \u001b[38;5;124m\"\u001b[39m\u001b[38;5;124muser\u001b[39m\u001b[38;5;124m\"\u001b[39m, \u001b[38;5;124m\"\u001b[39m\u001b[38;5;124mcontent\u001b[39m\u001b[38;5;124m\"\u001b[39m: \u001b[38;5;124m\"\u001b[39m\u001b[38;5;124mTranscript: \u001b[39m\u001b[38;5;124m\"\u001b[39m\u001b[38;5;241m+\u001b[39minput_transcript}]\n",
      "\u001b[1;31mNameError\u001b[0m: name 'transcript' is not defined"
     ]
    }
   ],
   "source": [
    "increment_chars=10000\n",
    "char_start_index=0\n",
    "segments=3\n",
    "model_responses=[]\n",
    "tasks=[]\n",
    "\n",
    "model_prompt=\"Your purpose is to take a transcript from a youtube streamer named Destiny and give a synopsis of the content and the sentiment/takes of the speaker. Include all of the topics even if they are covered briefly instead of just covering the main topic.\"\n",
    "\n",
    "get_response=False\n",
    "\n",
    "async def claude_response(input_transcript):\n",
    "    global model_prompt\n",
    "    bot_response=\"\"\n",
    "    with client.messages.stream(\n",
    "            max_tokens=2024,\n",
    "            system=model_prompt,\n",
    "            messages=conv_messages,\n",
    "            model=\"claude-3-sonnet-20240229\",\n",
    "        ) as stream:\n",
    "            for text in stream.text_stream:\n",
    "                bot_response+=text\n",
    "\n",
    "    return bot_response\n",
    "\n",
    "# get a certain number of segments\n",
    "while (len(model_responses)<segments) and ((char_start_index+increment_chars)<=len(transcript)):\n",
    "    input_transcript=transcript[char_start_index:char_start_index+increment_chars]\n",
    "    conv_messages=[{\"role\": \"user\", \"content\": \"Transcript: \"+input_transcript}]\n",
    "    bot_response=\"\"\n",
    "\n",
    "    # display start and endtime\n",
    "    start_second_raw=get_time_at_length_transcript(char_start_index)\n",
    "    hours = math.floor(start_second_raw / 3600)\n",
    "    minutes = math.floor((start_second_raw % 3600) / 60)\n",
    "    seconds = start_second_raw % 60\n",
    "\n",
    "    # calculate end time\n",
    "    end_second_raw=get_time_at_length_transcript(char_start_index+increment_chars)\n",
    "    hours_end = math.floor(end_second_raw / 3600)\n",
    "    minutes_end = math.floor((end_second_raw % 3600) / 60)\n",
    "    seconds_end = end_second_raw % 60\n",
    "\n",
    "    sf_str=f\"Start time {int(hours):02d}:{int(minutes):02d}:{seconds:06.3f}  End time {int(hours_end):02d}:{int(minutes_end):02d}:{seconds_end:06.3f}\"\n",
    "\n",
    "    task = asyncio.create_task(claude_response(input_transcript, model_prompt))\n",
    "    tasks.append(task)\n",
    "    model_responses.append({\"bot\": \"\",\"transcript\": input_transcript,\"time_string\":sf_str,\"char_start_finsih_indexes\":[char_start_index,char_start_index+increment_chars]})\n",
    "    \n",
    "\n",
    "        \n"
   ]
  }
 ],
 "metadata": {
  "kernelspec": {
   "display_name": ".venv",
   "language": "python",
   "name": "python3"
  },
  "language_info": {
   "codemirror_mode": {
    "name": "ipython",
    "version": 3
   },
   "file_extension": ".py",
   "mimetype": "text/x-python",
   "name": "python",
   "nbconvert_exporter": "python",
   "pygments_lexer": "ipython3",
   "version": "3.11.4"
  }
 },
 "nbformat": 4,
 "nbformat_minor": 2
}
