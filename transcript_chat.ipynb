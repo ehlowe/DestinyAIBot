{
 "cells": [
  {
   "cell_type": "markdown",
   "metadata": {},
   "source": [
    "# Setup"
   ]
  },
  {
   "cell_type": "code",
   "execution_count": 3,
   "metadata": {},
   "outputs": [],
   "source": [
    "# Import everything and setup things\n",
    "import time\n",
    "import json\n",
    "import sys\n",
    "import os\n",
    "import datetime\n",
    "import math\n",
    "file_folder = os.getcwd()\n",
    "if \"testing_folder\" in file_folder:\n",
    "    file_folder = os.path.dirname(file_folder)\n",
    "    sys.path.append(file_folder)\n",
    "    os.chdir(file_folder)\n",
    "\n",
    "\n",
    "from youtube_transcript_api import YouTubeTranscriptApi\n",
    "\n",
    "import tiktoken\n",
    "enc=tiktoken.get_encoding(\"cl100k_base\")\n",
    "\n",
    "keys=json.load(open(\"working_folder/keys.json\"))\n",
    "\n",
    "import anthropic\n",
    "client = anthropic.Anthropic(api_key=keys[\"anthropic\"])\n",
    "\n",
    "from openai import OpenAI\n",
    "os.environ[\"OPENAI_API_KEY\"]=keys[\"openai\"]\n"
   ]
  },
  {
   "cell_type": "code",
   "execution_count": null,
   "metadata": {},
   "outputs": [],
   "source": [
    "# Cost calculation\n",
    "input_cost=0\n",
    "output_cost=0\n",
    "total_cost=input_cost+output_cost\n",
    "def get_cost(input_text,output_text):\n",
    "    global input_cost\n",
    "    global output_cost\n",
    "    global total_cost\n",
    "    input_cost+=len(enc.encode(input_text))*(3/1000000.0)\n",
    "    output_cost+=len(enc.encode(output_text))*(15/1000000.0)\n",
    "    total_cost=input_cost+output_cost"
   ]
  },
  {
   "cell_type": "code",
   "execution_count": null,
   "metadata": {},
   "outputs": [],
   "source": [
    "# Get raw transcript\n",
    "video_id=\"FC3giY7YDAQ\"\n",
    "raw_transcript=YouTubeTranscriptApi.get_transcript(video_id)\n",
    "transcript=\"\"\n",
    "nearest_times={}\n",
    "for m in raw_transcript:\n",
    "    print(m['text'], m[\"start\"])\n",
    "    transcript+=str(m['text'])+\"\\n\"\n",
    "    nearest_times[len(transcript)]=m[\"start\"]\n",
    "    if len(transcript)>50000:\n",
    "        break\n",
    "\n",
    "# save as transcript.txt\n",
    "with open(\"working_folder/transcript.txt\",\"w\") as f:\n",
    "    f.write(transcript)"
   ]
  },
  {
   "cell_type": "code",
   "execution_count": null,
   "metadata": {},
   "outputs": [],
   "source": [
    "# Get time of transcript\n",
    "def get_time_at_length_transcript(length):\n",
    "    i=0\n",
    "    while nearest_times.get(length-i,None)==None:\n",
    "        i+=1\n",
    "        if (length-i)<=0:\n",
    "            return list(nearest_times.values())[0]\n",
    "\n",
    "    return(nearest_times[length-i])"
   ]
  },
  {
   "cell_type": "markdown",
   "metadata": {},
   "source": [
    "# Incremental Summarization\n"
   ]
  },
  {
   "cell_type": "code",
   "execution_count": null,
   "metadata": {},
   "outputs": [],
   "source": [
    "increment_chars=10000\n",
    "char_start_index=0\n",
    "segments=3\n",
    "model_responses=[]\n",
    "\n",
    "model_prompt=\"Your purpose is to take a transcript from a youtube streamer named Destiny and give a synopsis of the content and the sentiment/takes of the speaker. Include all of the topics even if they are covered briefly instead of just covering the main topic.\"\n",
    "\n",
    "get_response=False\n",
    "\n",
    "# get a certain number of segments\n",
    "while (len(model_responses)<segments) and ((char_start_index+increment_chars)<=len(transcript)):\n",
    "    input_transcript=transcript[char_start_index:char_start_index+increment_chars]\n",
    "\n",
    "    conv_messages=[{\"role\": \"user\", \"content\": \"Transcript: \"+input_transcript}]\n",
    "    bot_response=\"\"\n",
    "\n",
    "    # display start and endtime\n",
    "    start_second_raw=get_time_at_length_transcript(char_start_index)\n",
    "    hours = math.floor(start_second_raw / 3600)\n",
    "    minutes = math.floor((start_second_raw % 3600) / 60)\n",
    "    seconds = start_second_raw % 60\n",
    "\n",
    "    # calculate end time\n",
    "    end_second_raw=get_time_at_length_transcript(char_start_index+increment_chars)\n",
    "    hours_end = math.floor(end_second_raw / 3600)\n",
    "    minutes_end = math.floor((end_second_raw % 3600) / 60)\n",
    "    seconds_end = end_second_raw % 60\n",
    "\n",
    "    print(f\"Start time {int(hours):02d}:{int(minutes):02d}:{seconds:06.3f}  End time {int(hours_end):02d}:{int(minutes_end):02d}:{seconds_end:06.3f}\")\n",
    "\n",
    "    \n",
    "\n",
    "    if get_response:\n",
    "        with client.messages.stream(\n",
    "            max_tokens=2024,\n",
    "            system=model_prompt,\n",
    "            messages=conv_messages,\n",
    "            #model=\"claude-3-opus-20240229\",\n",
    "            model=\"claude-3-sonnet-20240229\",\n",
    "        ) as stream:\n",
    "            for text in stream.text_stream:\n",
    "                bot_response+=text\n",
    "                print(text, end=\"\", flush=True)\n",
    "        print()\n",
    "\n",
    "        get_cost(input_transcript+model_prompt,bot_response)\n",
    "        print(\"Cost: \",total_cost)\n",
    "\n",
    "        model_responses.append({\"bot\": bot_response,\"transcript\": input_transcript})\n",
    "    \n",
    "    char_start_index+=increment_chars-300\n",
    "        \n"
   ]
  }
 ],
 "metadata": {
  "kernelspec": {
   "display_name": ".venv",
   "language": "python",
   "name": "python3"
  },
  "language_info": {
   "codemirror_mode": {
    "name": "ipython",
    "version": 3
   },
   "file_extension": ".py",
   "mimetype": "text/x-python",
   "name": "python",
   "nbconvert_exporter": "python",
   "pygments_lexer": "ipython3",
   "version": "3.11.4"
  }
 },
 "nbformat": 4,
 "nbformat_minor": 2
}
