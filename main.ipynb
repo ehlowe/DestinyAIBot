{
 "cells": [
  {
   "cell_type": "markdown",
   "metadata": {},
   "source": [
    "### Basic Imports"
   ]
  },
  {
   "cell_type": "code",
   "execution_count": 119,
   "metadata": {},
   "outputs": [],
   "source": [
    "# Import everything and setup things\n",
    "import sys\n",
    "import os\n",
    "file_folder = os.getcwd()\n",
    "if \"testing_folder\" in file_folder:\n",
    "    file_folder = os.path.dirname(file_folder)\n",
    "    sys.path.append(file_folder)\n",
    "    os.chdir(file_folder)\n",
    "\n",
    "import datetime\n",
    "import math\n",
    "import time\n",
    "import json\n",
    "from youtube_transcript_api import YouTubeTranscriptApi\n",
    "import tiktoken\n",
    "import faiss\n",
    "import numpy as np\n",
    "import asyncio\n",
    "import ipywidgets\n",
    "from IPython.display import display, HTML\n",
    "import imp\n",
    "\n",
    "\n",
    "keys=json.load(open(\"working_folder/keys.json\"))\n",
    "\n",
    "# Setup anthropic\n",
    "import anthropic\n",
    "anthropic_client = anthropic.Anthropic(api_key=keys[\"anthropic\"])\n",
    "\n",
    "# Setup openai\n",
    "from openai import OpenAI\n",
    "os.environ[\"OPENAI_API_KEY\"]=keys[\"openai\"]\n",
    "openai_client = OpenAI(api_key=keys[\"openai\"])\n",
    "\n",
    "enc=tiktoken.get_encoding(\"cl100k_base\")\n",
    "input_cost=0\n",
    "output_cost=0"
   ]
  },
  {
   "cell_type": "markdown",
   "metadata": {},
   "source": [
    "### Import custom library or Reload for development"
   ]
  },
  {
   "cell_type": "code",
   "execution_count": 180,
   "metadata": {},
   "outputs": [
    {
     "data": {
      "text/plain": [
       "<module 'AiFunctions' from 'd:\\\\PROGRAMS\\\\DestinyFolder\\\\DestinyAIBot\\\\AiFunctions.py'>"
      ]
     },
     "execution_count": 180,
     "metadata": {},
     "output_type": "execute_result"
    }
   ],
   "source": [
    "# import and reload custom functions \n",
    "import AiFunctions as af\n",
    "imp.reload(af)"
   ]
  },
  {
   "cell_type": "markdown",
   "metadata": {},
   "source": [
    "## Designate Video ID for all subsequent processes https://vyneer.me/vods/"
   ]
  },
  {
   "cell_type": "code",
   "execution_count": 175,
   "metadata": {},
   "outputs": [],
   "source": [
    "video_url=\"https://youtu.be/savIUlLu0MY\"\n",
    "# Set video id\n",
    "#video_id=\"FC3giY7YDAQ\"\n",
    "#video_id=\"hkOI46Ai4g8\"\n",
    "video_id=\"YZuSc-EnI3o\"\n",
    "\n",
    "try:\n",
    "    if video_url!=\"\":\n",
    "        video_id=video_url.split(\"/\")[-1]\n",
    "except:\n",
    "    pass\n"
   ]
  },
  {
   "cell_type": "markdown",
   "metadata": {},
   "source": [
    "### Load or Get transcript"
   ]
  },
  {
   "cell_type": "code",
   "execution_count": 181,
   "metadata": {},
   "outputs": [
    {
     "name": "stdout",
     "output_type": "stream",
     "text": [
      "Getting transcript from YouTube\n"
     ]
    }
   ],
   "source": [
    "# Get transcript and nearest times\n",
    "transcript, nearest_times=af.load_or_get_transcript_info(video_id)"
   ]
  },
  {
   "cell_type": "markdown",
   "metadata": {},
   "source": [
    "### Load or Make text chunks and vector_db for transcript search"
   ]
  },
  {
   "cell_type": "code",
   "execution_count": 183,
   "metadata": {},
   "outputs": [
    {
     "name": "stdout",
     "output_type": "stream",
     "text": [
      "Generating text chunks and vector db\n",
      "Number of chunks:  417\n",
      "Finished generating embeddings\n"
     ]
    }
   ],
   "source": [
    "vector_db, text_chunks_dict = await af.load_or_get_vectordb_and_chunks(openai_client, transcript, nearest_times, video_id)"
   ]
  },
  {
   "cell_type": "markdown",
   "metadata": {},
   "source": [
    "### Search Transcript"
   ]
  },
  {
   "cell_type": "code",
   "execution_count": 185,
   "metadata": {},
   "outputs": [
    {
     "name": "stdout",
     "output_type": "stream",
     "text": [
      "Searching for: Elon Musk Billionaire\n"
     ]
    },
    {
     "data": {
      "text/html": [
       "<a href=\"https://www.youtube.com/watch?v=savIUlLu0MY#t=14406.0s\"c\">arvard |-------------| 230006</a><br><a href=\"https://www.youtube.com/watch?v=savIUlLu0MY#t=14407.159s\"c\">Business school's GMAT midcore and so |-------------| 230043</a><br><a href=\"https://www.youtube.com/watch?v=savIUlLu0MY#t=14409.0s\"c\">that was my plan until I started |-------------| 230075</a><br><a href=\"https://www.youtube.com/watch?v=savIUlLu0MY#t=14410.76s\"c\">thinking a little bit more for myself |-------------| 230112</a><br><a href=\"https://www.youtube.com/watch?v=savIUlLu0MY#t=14412.04s\"c\">about wait does the math really make |-------------| 230148</a><br><a href=\"https://www.youtube.com/watch?v=savIUlLu0MY#t=14413.359s\"c\">sense here fast forward a decade I now |-------------| 230186</a><br><a href=\"https://www.youtube.com/watch?v=savIUlLu0MY#t=14414.84s\"c\">want a portfolio of companies that does |-------------| 230225</a><br><a href=\"https://www.youtube.com/watch?v=savIUlLu0MY#t=14416.84s\"c\">over $200 million a year and I make |-------------| 230260</a><br><a href=\"https://www.youtube.com/watch?v=savIUlLu0MY#t=14417.88s\"c\">these videos so that hopefully younger |-------------| 230298</a><br><a href=\"https://www.youtube.com/watch?v=savIUlLu0MY#t=14419.279s\"c\">people or just people at different |-------------| 230332</a><br><a href=\"https://www.youtube.com/watch?v=savIUlLu0MY#t=14420.6s\"c\">stages in their career can make better |-------------| 230370</a><br><a href=\"https://www.youtube.com/watch?v=savIUlLu0MY#t=14421.92s\"c\">picks and so that's my formal education |-------------| 230409</a><br><a href=\"https://www.youtube.com/watch?v=savIUlLu0MY#t=14423.52s\"c\">side my informal education side is that |-------------| 230448</a><br><a href=\"https://www.youtube.com/watch?v=savIUlLu0MY#t=14425.319s\"c\">I quit my white collar job started at |-------------| 230485</a><br><a href=\"https://www.youtube.com/watch?v=savIUlLu0MY#t=14427.8s\"c\">minimum wage at a gym where I paid a guy |-------------| 230525</a><br><a href=\"https://www.youtube.com/watch?v=savIUlLu0MY#t=14429.92s\"c\">to let me work for him and follow him |-------------| 230562</a><br><a href=\"https://www.youtube.com/watch?v=savIUlLu0MY#t=14431.88s\"c\">around all day then I got into the gym |-------------| 230600</a><br><a href=\"https://www.youtube.com/watch?v=savIUlLu0MY#t=14433.319s\"c\">business scaled that to 5,000 locations |-------------| 230639</a><br><a href=\"https://www.youtube.com/watch?v=savIUlLu0MY#t=14434.72s\"c\">in the US and company called gym launch |-------------| 230678</a><br><a href=\"https://www.youtube.com/watch?v=savIUlLu0MY#t=14436.399s\"c\">and I sold that to private Equity Group |-------------| 230717</a><br><a href=\"https://www.youtube.com/watch?v=savIUlLu0MY#t=14437.56s\"c\">for 46.2 million I now own a companies |-------------| 230755</a><br><a href=\"https://www.youtube.com/watch?v=savIUlLu0MY#t=14438.68s\"c\">that has over a thousand employees and |-------------| 230793</a><br><a href=\"https://www.youtube.com/watch?v=savIUlLu0MY#t=14441.439s\"c\">so I know what businesses today are |-------------| 230828</a><br><a href=\"https://www.youtube.com/watch?v=savIUlLu0MY#t=14443.08s\"c\">actually looking for and it's not what I |-------------| 230868</a><br><a href=\"https://www.youtube.com/watch?v=savIUlLu0MY#t=14445.159s\"c\">used to think and maybe what you used to |-------------| 230908</a><br><a href=\"https://www.youtube.com/watch?v=savIUlLu0MY#t=14446.6s\"c\">think years ago which is no one even |-------------| 230944</a><br><a href=\"https://www.youtube.com/watch?v=savIUlLu0MY#t=14447.76s\"c\">looks at where you went to sch |-------------| 230974</a>"
      ],
      "text/plain": [
       "<IPython.core.display.HTML object>"
      ]
     },
     "metadata": {},
     "output_type": "display_data"
    }
   ],
   "source": [
    "#load from text_chunks_dict\n",
    "user_query=input(\"Enter your query: \")\n",
    "print(\"Searching for:\", user_query)\n",
    "\n",
    "D, I=af.search_vector_db(openai_client, vector_db, user_query,5)\n",
    "\n",
    "thtml=af.convert_to_html(nearest_times, video_id, text_chunks_dict[str(I[0][0])][\"text\"],text_chunks_dict[str(I[0][0])][\"start\"],I[0][0])\n",
    "display(HTML(thtml))"
   ]
  },
  {
   "cell_type": "markdown",
   "metadata": {},
   "source": [
    "### Create summarized segments"
   ]
  },
  {
   "cell_type": "code",
   "execution_count": 186,
   "metadata": {},
   "outputs": [
    {
     "name": "stdout",
     "output_type": "stream",
     "text": [
      "Approximate cost:  0.5603069999999999   Number of segments:  42\n",
      "0 1 2 3 4 5 6 7 8 9 10 11 12 13 14 15 16 17 18 19 20 21 22 23 24 25 26 27 28 29 30 31 32 33 34 35 36 Error: 25 Error: 26 Error: 28 37 Error: 29 Error: 32 Error: 30 Error: 35 Error: 36 Error: 37 38 39 40 41 Retrying: 25 25 Retrying: 26 26 Retrying: 28 28 Retrying: 29 29 Retrying: 32 32 Retrying: 30 30 Error: 40 Retrying: 35 35 Retrying: 36 36 Error: 28 Error: 25 Error: 26 Retrying: 37 37 Error: 29 Error: 35 Error: 32 Error: 37 Retrying: 40 40 Retrying: 28 28 Retrying: 25 25 Retrying: 26 26 Retrying: 29 29 Retrying: 35 35 Retrying: 32 32 Error: 26 Error: 40 Error: 28 Error: 29 Retrying: 37 37 Error: 32 Error: 35 Error: 37 Retrying: 26 26 Retrying: 40 40 Retrying: 28 28 Retrying: 29 29 Retrying: 32 32 Retrying: 35 35 Retrying: 37 37 Total Cost: 0.505617\n",
      "Model responses saved to file\n"
     ]
    }
   ],
   "source": [
    "model_responses, run_input_cost, run_output_cost=await af.load_or_make_summarized_segments(anthropic_client, transcript, nearest_times, video_id, segments=1000)\n",
    "input_cost+=run_input_cost\n",
    "output_cost+=run_output_cost"
   ]
  },
  {
   "cell_type": "markdown",
   "metadata": {},
   "source": [
    "### Make meta summary"
   ]
  },
  {
   "cell_type": "code",
   "execution_count": 188,
   "metadata": {},
   "outputs": [
    {
     "name": "stdout",
     "output_type": "stream",
     "text": [
      "Generating meta summary\n",
      "Expected cost:  0.04236\n",
      "Here are two summaries for the collection of video transcript summaries you provided:\n",
      "\n",
      "Main Topics:\n",
      "\n",
      "1. Analysis of the Israeli-Palestinian conflict and whether Israel's actions constitute genocide against Palestinians according to the legal definition. There is in-depth discussion around proving \"genocidal intent\" with examples like forced mass relocations being required, versus things like civilian casualties alone. The streamer seems skeptical of the genocide claim for now based on available evidence, while remaining open to convincing proof.\n",
      "\n",
      "2. Examination of definitions and precedents around legally determining genocide in various contexts like Russia's invasion of Ukraine, the Armenian Genocide, the Holocaust, and China's treatment of Uyghurs. The need for a very high bar of proof beyond typical wartime actions is emphasized.  \n",
      "\n",
      "3. Concerns about the Chinese-owned app TikTok being potentially weaponized for foreign influence campaigns to spread disinformation, sow division, and radicalize users in the US. There is a focus on TikTok's ability to conduct targeted advertising campaigns to mobilize certain demographics.\n",
      "\n",
      "4. Extensive analysis of the economic value of college degrees versus workforce entry or entrepreneurship. Key factors like lifetime earnings premiums, debt burden, quality of education, and labor market demands are weighed against the high costs of tuition.\n",
      "\n",
      "5. Discussion around Russian disinformation efforts on social media to inflame societal tensions in the US, including spreading divisive narratives across racial and political lines by posing as activist groups.  \n",
      "\n",
      "Smaller Details:\n",
      "\n",
      "- Debates over the use of terms like \"siege\" versus \"military conflict\" in describing the situation in Gaza.\n",
      "- Analysis of cost of living in expensive areas like Miami Beach, with anecdotes about inflated food costs.\n",
      "- Critique of nutritionists focusing on minor dietary details while missing bigger principles about quality of food sources.    \n",
      "- Reaction to personal controversies like his friend's alleged discomfort at a hangout.\n",
      "- Defense against claims he assumed intimacy was permissible due to being a famous streamer.Meta summary saved to file\n"
     ]
    }
   ],
   "source": [
    "meta_summary=af.load_or_make_meta_summary(anthropic_client, model_responses, video_id)"
   ]
  }
 ],
 "metadata": {
  "kernelspec": {
   "display_name": "env",
   "language": "python",
   "name": "python3"
  },
  "language_info": {
   "codemirror_mode": {
    "name": "ipython",
    "version": 3
   },
   "file_extension": ".py",
   "mimetype": "text/x-python",
   "name": "python",
   "nbconvert_exporter": "python",
   "pygments_lexer": "ipython3",
   "version": "3.11.4"
  }
 },
 "nbformat": 4,
 "nbformat_minor": 2
}
