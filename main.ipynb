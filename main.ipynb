{
 "cells": [
  {
   "cell_type": "markdown",
   "metadata": {},
   "source": [
    "### Basic Imports"
   ]
  },
  {
   "cell_type": "code",
   "execution_count": 4,
   "metadata": {},
   "outputs": [],
   "source": [
    "# Import everything and setup things\n",
    "import sys\n",
    "import os\n",
    "file_folder = os.getcwd()\n",
    "if \"testing_folder\" in file_folder:\n",
    "    file_folder = os.path.dirname(file_folder)\n",
    "    sys.path.append(file_folder)\n",
    "    os.chdir(file_folder)\n",
    "\n",
    "import datetime\n",
    "import math\n",
    "import time\n",
    "import json\n",
    "from youtube_transcript_api import YouTubeTranscriptApi\n",
    "import tiktoken\n",
    "import faiss\n",
    "import numpy as np\n",
    "import asyncio\n",
    "import ipywidgets\n",
    "from IPython.display import display, HTML\n",
    "import imp\n",
    "\n",
    "\n",
    "keys=json.load(open(\"working_folder/keys.json\"))\n",
    "\n",
    "# Setup anthropic\n",
    "import anthropic\n",
    "anthropic_client = anthropic.Anthropic(api_key=keys[\"anthropic\"])\n",
    "\n",
    "# Setup openai\n",
    "from openai import OpenAI\n",
    "os.environ[\"OPENAI_API_KEY\"]=keys[\"openai\"]\n",
    "openai_client = OpenAI(api_key=keys[\"openai\"])\n",
    "\n",
    "enc=tiktoken.get_encoding(\"cl100k_base\")\n",
    "input_cost=0\n",
    "output_cost=0"
   ]
  },
  {
   "cell_type": "markdown",
   "metadata": {},
   "source": [
    "### Import custom library or Reload for development"
   ]
  },
  {
   "cell_type": "code",
   "execution_count": 5,
   "metadata": {},
   "outputs": [
    {
     "data": {
      "text/plain": [
       "<module 'AiFunctions' from 'd:\\\\DestinyFolder\\\\DestinyAIBot\\\\AiFunctions.py'>"
      ]
     },
     "execution_count": 5,
     "metadata": {},
     "output_type": "execute_result"
    }
   ],
   "source": [
    "# import and reload custom functions \n",
    "import AiFunctions as af\n",
    "imp.reload(af)"
   ]
  },
  {
   "cell_type": "markdown",
   "metadata": {},
   "source": [
    "## Designate Video ID for all subsequent processes https://vyneer.me/vods/"
   ]
  },
  {
   "cell_type": "code",
   "execution_count": 6,
   "metadata": {},
   "outputs": [],
   "source": [
    "video_url=\"https://youtu.be/savIUlLu0MY\"\n",
    "# Set video id\n",
    "#video_id=\"FC3giY7YDAQ\"\n",
    "#video_id=\"hkOI46Ai4g8\"\n",
    "video_id=\"YZuSc-EnI3o\"\n",
    "\n",
    "try:\n",
    "    if video_url!=\"\":\n",
    "        video_id=video_url.split(\"/\")[-1]\n",
    "except:\n",
    "    pass\n"
   ]
  },
  {
   "cell_type": "markdown",
   "metadata": {},
   "source": [
    "### Load or Get transcript"
   ]
  },
  {
   "cell_type": "code",
   "execution_count": 7,
   "metadata": {},
   "outputs": [
    {
     "name": "stdout",
     "output_type": "stream",
     "text": [
      "Getting transcript from YouTube\n"
     ]
    }
   ],
   "source": [
    "# Get transcript and nearest times\n",
    "transcript, nearest_times=af.load_or_get_transcript_info(video_id)"
   ]
  },
  {
   "cell_type": "markdown",
   "metadata": {},
   "source": [
    "### Load or Make text chunks and vector_db for transcript search"
   ]
  },
  {
   "cell_type": "code",
   "execution_count": 8,
   "metadata": {},
   "outputs": [
    {
     "name": "stdout",
     "output_type": "stream",
     "text": [
      "Generating text chunks and vector db\n",
      "Number of chunks:  417\n",
      "Finished generating embeddings\n"
     ]
    }
   ],
   "source": [
    "vector_db, text_chunks_dict = await af.load_or_get_vectordb_and_chunks(openai_client, transcript, nearest_times, video_id)"
   ]
  },
  {
   "cell_type": "markdown",
   "metadata": {},
   "source": [
    "### Search Transcript"
   ]
  },
  {
   "cell_type": "code",
   "execution_count": 9,
   "metadata": {},
   "outputs": [
    {
     "name": "stdout",
     "output_type": "stream",
     "text": [
      "Searching for: test\n"
     ]
    },
    {
     "data": {
      "text/html": [
       "<a href=\"https://www.youtube.com/watch?v=savIUlLu0MY#t=4691.639s\"c\">Can't Stop |-------------| 68010</a><br><a href=\"https://www.youtube.com/watch?v=savIUlLu0MY#t=4693.28s\"c\">Lying can I come on in two to three |-------------| 68045</a><br><a href=\"https://www.youtube.com/watch?v=savIUlLu0MY#t=4696.92s\"c\">hours opulent if we don't have kicker |-------------| 68082</a><br><a href=\"https://www.youtube.com/watch?v=savIUlLu0MY#t=4698.84s\"c\">keep today sure |-------------| 68097</a><br><a href=\"https://www.youtube.com/watch?v=savIUlLu0MY#t=4700.6s\"c\">and I have 100 I look I |-------------| 68120</a><br><a href=\"https://www.youtube.com/watch?v=savIUlLu0MY#t=4708.84s\"c\">have video one is the top part two is |-------------| 68157</a><br><a href=\"https://www.youtube.com/watch?v=savIUlLu0MY#t=4717.4s\"c\">cancel okay let me use a rest grab a Red |-------------| 68197</a><br><a href=\"https://www.youtube.com/watch?v=savIUlLu0MY#t=4719.6s\"c\">Bull real quick hold |-------------| 68217</a><br><a href=\"https://www.youtube.com/watch?v=savIUlLu0MY#t=4719.6s\"c\">on |-------------| 68219</a><br><a href=\"https://www.youtube.com/watch?v=savIUlLu0MY#t=4719.6s\"c\">e |-------------| 68220</a><br><a href=\"https://www.youtube.com/watch?v=savIUlLu0MY#t=4719.6s\"c\">e |-------------| 68221</a><br><a href=\"https://www.youtube.com/watch?v=savIUlLu0MY#t=4719.6s\"c\">e |-------------| 68222</a><br><a href=\"https://www.youtube.com/watch?v=savIUlLu0MY#t=4719.6s\"c\">e |-------------| 68223</a><br><a href=\"https://www.youtube.com/watch?v=savIUlLu0MY#t=4850.639s\"c\">what I would consider 100% faith and |-------------| 68259</a><br><a href=\"https://www.youtube.com/watch?v=savIUlLu0MY#t=4870.159s\"c\">trust in my wife but I told her I told |-------------| 68297</a><br><a href=\"https://www.youtube.com/watch?v=savIUlLu0MY#t=4872.12s\"c\">her these words exactly you're going to |-------------| 68336</a><br><a href=\"https://www.youtube.com/watch?v=savIUlLu0MY#t=4874.719s\"c\">get the [ __ ] test and if not I'm out |-------------| 68374</a><br><a href=\"https://www.youtube.com/watch?v=savIUlLu0MY#t=4876.88s\"c\">the door period that man br in about |-------------| 68410</a><br><a href=\"https://www.youtube.com/watch?v=savIUlLu0MY#t=4879.48s\"c\">making his wife take a paternity test |-------------| 68447</a><br><a href=\"https://www.youtube.com/watch?v=savIUlLu0MY#t=4882.159s\"c\">and humiliating her in front of millions |-------------| 68487</a><br><a href=\"https://www.youtube.com/watch?v=savIUlLu0MY#t=4884.719s\"c\">of subscribers for brownie points is |-------------| 68523</a><br><a href=\"https://www.youtube.com/watch?v=savIUlLu0MY#t=4887.28s\"c\">Andrew Wilson the tradlife Christian |-------------| 68559</a><br><a href=\"https://www.youtube.com/watch?v=savIUlLu0MY#t=4889.8s\"c\">conservative who has so much faith in |-------------| 68596</a><br><a href=\"https://www.youtube.com/watch?v=savIUlLu0MY#t=4892.6s\"c\">his wife that he made her take a |-------------| 68628</a><br><a href=\"https://www.youtube.com/watch?v=savIUlLu0MY#t=4894.92s\"c\">paternity test I told her these words |-------------| 68665</a><br><a href=\"https://www.youtube.com/watch?v=savIUlLu0MY#t=4896.76s\"c\">exactly you're going to get the [ __ ] |-------------| 68703</a><br><a href=\"https://www.youtube.com/watch?v=savIUlLu0MY#t=4899.08s\"c\">test and if not I'm out the door period |-------------| 68742</a><br><a href=\"https://www.youtube.com/watch?v=savIUlLu0MY#t=4899.08s\"c\">That's not emotional |-------------| 68762</a><br><a href=\"https://www.youtube.com/watch?v=savIUlLu0MY#t=4904.679s\"c\">abuse was be considered emotional abuse |-------------| 68801</a><br><a href=\"https://www.youtube.com/watch?v=savIUlLu0MY#t=4906.44s\"c\">this is totally the normal reaction you |-------------| 68840</a><br><a href=\"https://www.youtube.com/watch?v=savIUlLu0MY#t=4909.12s\"c\">would get when talking about your 100% |-------------| 68878</a><br><a href=\"https://www.youtube.com/watch?v=savIUlLu0MY#t=4911.84s\"c\">healthy loving and trusting wait was he |-------------| 68917</a><br><a href=\"https://www.youtube.com/watch?v=savIUlLu0MY#t=4915.08s\"c\">saying he'd forc her to get a test like |-------------| 68956</a><br><a href=\"https://www.youtube.com/watch?v=savIUlLu0MY#t=4915.08s\"c\">just in a n |-------------| 68967</a>"
      ],
      "text/plain": [
       "<IPython.core.display.HTML object>"
      ]
     },
     "metadata": {},
     "output_type": "display_data"
    }
   ],
   "source": [
    "#load from text_chunks_dict\n",
    "user_query=input(\"Enter your query: \")\n",
    "print(\"Searching for:\", user_query)\n",
    "\n",
    "D, I=af.search_vector_db(openai_client, vector_db, user_query,5)\n",
    "\n",
    "thtml=af.convert_to_html(nearest_times, video_id, text_chunks_dict[str(I[0][0])][\"text\"],text_chunks_dict[str(I[0][0])][\"start\"],I[0][0])\n",
    "display(HTML(thtml))"
   ]
  },
  {
   "cell_type": "markdown",
   "metadata": {},
   "source": [
    "### Create summarized segments"
   ]
  },
  {
   "cell_type": "code",
   "execution_count": 10,
   "metadata": {},
   "outputs": [
    {
     "name": "stdout",
     "output_type": "stream",
     "text": [
      "Approximate cost:  0.5603069999999999   Number of segments:  42\n",
      "0 1 2 3 4 5 6 7 8 9 10 11 12 13 14 15 16 17 18 19 20 21 22 23 24 25 26 27 28 29 30 31 Error: 27 Error: 31 Error: 28 Error: 30 32 33 34 35 36 37 38 Error: 33 Error: 34 39 Error: 36 40 41 Error: 38 Error: 39 Retrying: 27 27 Retrying: 31 31 Retrying: 28 28 Retrying: 30 30 Error: 41 Error: 27 Error: 31 Error: 30 Retrying: 33 33 Retrying: 34 34 Retrying: 36 36 Retrying: 38 38 Error: 34 Retrying: 39 39 Error: 36 Retrying: 41 41 Error: 38 Error: 41 Retrying: 27 27 Retrying: 31 31 Retrying: 30 30 Retrying: 34 34 Retrying: 36 36 Retrying: 38 38 Retrying: 41 41 Total Cost: 0.501012\n",
      "Model responses saved to file\n"
     ]
    }
   ],
   "source": [
    "model_responses, run_input_cost, run_output_cost=await af.load_or_make_summarized_segments(anthropic_client, transcript, nearest_times, video_id, segments=1000)\n",
    "input_cost+=run_input_cost\n",
    "output_cost+=run_output_cost"
   ]
  },
  {
   "cell_type": "markdown",
   "metadata": {},
   "source": [
    "### Make meta summary"
   ]
  },
  {
   "cell_type": "code",
   "execution_count": 12,
   "metadata": {},
   "outputs": [
    {
     "name": "stdout",
     "output_type": "stream",
     "text": [
      "Generating meta summary\n",
      "Expected cost:  0.041445\n",
      "Here is a summary of the main topics and key details based on the collection of summaries:\n",
      "\n",
      "Main Topics:\n",
      "\n",
      "1. Discussions on the Israeli-Palestinian conflict, analyzing whether Israel's actions constitute genocide based on legal definitions and available evidence. Destiny seems skeptical that it rises to the level of genocide currently.\n",
      "\n",
      "2. Analysis of college costs, earnings differentials, and the economic value of degrees versus alternative career paths like skilled trades. Destiny presents a nuanced view that higher education's payoff depends significantly on individual circumstances.\n",
      "\n",
      "3. Responding to personal allegations and controversies around inappropriate interactions with underage individuals and mishandling consent situations. Destiny denies intentional misconduct but acknowledges missed cues.  \n",
      "\n",
      "4. Concerns about foreign government disinformation campaigns using social media to amplify social/political division and radicalization in the U.S., viewing platforms like TikTok as potential threats.\n",
      "\n",
      "5. Critiquing self-help content that enables harmful behaviors versus challenging people to improve their circumstances, using examples like Dr. K and Jordan Peterson's contrasting approaches.\n",
      "\n",
      "6. Parenting advice on handling children's behavior, meltdowns in public, establishing rules, socializing kids while prioritizing academics, and parent-teacher coordination.\n",
      "\n",
      "Smaller Details:\n",
      "\n",
      "- Definitions of legal concepts like genocide, conspiracy to defraud\n",
      "- References to YouTube drama between various creators\n",
      "- Personal stories about childhood, family, and running businesses\n",
      "- Analyzing wage/earnings data across professions\n",
      "- Tax advice and implications of education levels\n",
      "\n",
      "The main themes revolve around geopolitical analysis, economics of education, personal controversies, foreign disinformation threats, mental health/self-improvement, and parenting strategies. Destiny aims to provide detailed research and nuanced perspectives on complex issues.Meta summary saved to file\n"
     ]
    }
   ],
   "source": [
    "meta_summary=af.load_or_make_meta_summary(anthropic_client, model_responses, video_id)"
   ]
  },
  {
   "cell_type": "markdown",
   "metadata": {},
   "source": [
    "# Dev\n",
    "### Chat processing"
   ]
  },
  {
   "cell_type": "code",
   "execution_count": 13,
   "metadata": {},
   "outputs": [
    {
     "name": "stdout",
     "output_type": "stream",
     "text": [
      "User: Aimsforgroin, 0:21, Message: W\n",
      "User: Beezo, 2:56, Message: :shelterin:mr bonelli*\n",
      "User: geeese jeeeze, 6:07, Message: bald:_destinyPepeW::_destinyPepeW:\n",
      "User: Caged, 10:26, Message: can somebody define hoflation please\n",
      "User: geeese jeeeze, 14:31, Message: its like Itachi's Amaterasu\n",
      "User: Prof Crow, 19:21, Message: we love greece and romania, fuck turkey doe\n",
      "User: Stigala, 22:55, Message: nah wouldnt call it a genocide potential/failed annexation of ukraine\n",
      "User: Wilson, 26:05, Message: Is it genocide if you don’t try to kill the entire population, just the population of them in the region you’re trying to take over? \n",
      "User: Raiders Cat⚔, 31:44, Message: @Naga cute pfp:shelterin::_destinyDggL:\n",
      "User: Dogwater, 36:00, Message: 2 GRUMS \n",
      "User: Will sr, 39:18, Message: So is avatar not a genocide because the intent wasn’t to kill the blue avatar just to take pandora?\n",
      "User: Grum, 41:49, Message: @Wilson thx I know\n",
      "User: alpha, 45:57, Message: :gorilla::gorilla:\n",
      "User: Wilson, 52:06, Message: Pretty much, dehumanisation ran deep\n",
      "User: EquinsuOcha, 55:10, Message: why is the word genocide so hard for so many to comprehend?\n",
      "User: SnakeHelah, 58:44, Message: its just not the blow up style on the Israeli side \n",
      "User: Gary Jones, 1:03:14, Message: same :ninja::ninja:\n",
      "User: Lynne Baird, 1:06:39, Message: riot has vanguard that's insane\n",
      "User: Valsimot Karpis, 1:09:23, Message: @Violettings yeah\n",
      "User: TRON, 1:12:50, Message: @alpha but your name is alpha\n",
      "User: Jordan Alexander, 1:16:22, Message: Ay, my guy Rob Greene\n",
      "User: undesirable, 1:20:14, Message: destiny's body 3/18/24 to 3/18/24:_destinyDaFeels:\n",
      "User: Fried Lexman, 1:22:31, Message: RIP NATHAN GET REKT\n",
      "User: bayarea_KBA, 1:22:58, Message: :_destinyDaFeels:not the father\n",
      "User: Anirudh Prakash, 1:24:17, Message: :_destinyCoomer:\n",
      "User: Moonray Murray, 1:26:20, Message: leftist are usually worms\n",
      "User: Sidenote, 1:26:42, Message: the hair ngl\n",
      "User: anon anon, 1:26:50, Message: YES\n",
      "User: G the G, 1:27:01, Message: they're mega similar I thought that was the whole joke he was making\n",
      "User: Lord Dudley, 1:27:26, Message: CHA, HE'S TRYING TO DISTRACT FROM THE SECRET DAUGHTER\n",
      "User: Elliott Fields, 1:27:49, Message: I see those in every old person's house\n",
      "User: Joe77, 1:28:50, Message: no\n",
      "User: TheDarkDevice, 1:30:15, Message: Also hi best chat :_destinyDggL:\n",
      "User: big dub, 1:31:21, Message: LMAO\n",
      "User: Blank, 1:32:28, Message: Her eyes are fine\n",
      "User: Ar Ramon, 1:33:40, Message: oh nooooo lol she bringing out MyFitnessPal\n",
      "User: Donquixote 101, 1:34:30, Message: Bagels are the WORST\n",
      "User: VGMoose, 1:35:13, Message: whole wheat\n",
      "User: Dan, 1:36:11, Message: 115 pounds LMAO\n",
      "User: Factology 101, 1:37:14, Message: :hand-orange-covering-eyes:\n",
      "User: Wisco MTB, 1:38:01, Message: Definitely way to much meat but nothing crazy\n",
      "User: notaadee, 1:39:06, Message: Could be\n",
      "User: Confluence, 1:40:26, Message: @destiny, can we see you flex? and how long have you been at the gym?\n",
      "User: Totodile, 1:41:43, Message: ?????\n",
      "User: c-star, 1:42:17, Message: i don’t care for this at all. so random\n",
      "User: Mr. Mailman, 1:42:48, Message: L Destiny food take\n",
      "User: Koyomi, 1:43:04, Message: FAX\n",
      "User: Ozymandias, 1:43:30, Message: food takes :fire::fire:\n",
      "User: emildeez, 1:44:18, Message: over medium supremacy\n",
      "User: Calisto Fury, 1:45:25, Message: C sections play a roll into that \n",
      "User: Blank, 1:46:52, Message: trueeeee\n",
      "User: Factology 101, 1:47:42, Message: fair\n",
      "User: Varti Sepi, 1:49:09, Message: They both have the same target audience \n",
      "User: Marc M, 1:50:31, Message: Tree needs to win buddy of the year, shes the only person tiny knows that will actually shoot for him.\n",
      "User: B Rye, 1:52:26, Message: nah fish oil is very good for you\n",
      "User: Abk Algmor, 1:53:46, Message: trt is like plastic surgery for men. loser behavior\n",
      "User: higherLEVELING, 1:55:35, Message: soy levels up\n",
      "User: Si Se Puede, 1:58:12, Message: you don't need to be concerned about your T levels dropping unless you actually notice things that are getting worse.\n",
      "User: Zvonomir Zuboronovic, 1:59:23, Message: wear a dress\n",
      "User: Dion ⚛️, 2:00:13, Message: Since men are basically women with too much testosterone makes sense.\n",
      "User: Cognitive Dissonance, 2:02:24, Message: kids multivitamin\n",
      "User: hurkamur1, 2:03:08, Message: I like steamed broccoli?\n",
      "User: twidel twidel, 2:04:43, Message: 1 spoonfull is nothing\n",
      "User: CRWeaventure, 2:07:19, Message: @nerdslayer sure \n",
      "User: Damned If I Do, 2:09:07, Message: Does Nathan play League? \n",
      "User: Calisto Fury, 2:12:30, Message: LOL\n",
      "User: Duckbud, 2:14:39, Message: Andrew is so stupid:face-green-smiling:\n",
      "User: Jakster, 2:16:22, Message: 777K SUBS\n",
      "User: Koszmar., 2:18:24, Message: suckin bewbs\n",
      "User: szymon L, 2:21:10, Message: 25\n",
      "User: Raiders Cat⚔, 2:22:53, Message: :_destinyPepe:\n",
      "User: kattypatties, 2:24:06, Message: Soy child needs to get over it\n",
      "User: Duckbud, 2:24:51, Message: :face-green-smiling:\n",
      "User: alexanghabang, 2:25:27, Message: :_destinyPepeLaugh:\n",
      "User: HrknessLovesU, 2:27:28, Message: :face-orange-biting-nails::face-orange-biting-nails::face-orange-biting-nails:\n",
      "User: Fung Dark, 2:28:15, Message: “You’re gonna have to figure that out on your own, kiddo”\n",
      "User: Duckbud, 2:29:15, Message: Benny so based\n",
      "User: Icon_Carth, 2:30:10, Message: LOL\n",
      "User: Egusi Soup, 2:31:03, Message: :_destinyOMEGALUL:\n",
      "User: I Am The Senate, 2:31:34, Message: and Benny is just dying lmafoooo\n",
      "User: Logic Bombs, 2:32:15, Message: Benny was a real one for this\n",
      "User: Rat Dare, 2:33:11, Message: :_destinyOMEGALUL:\n",
      "User: AltruisticSoul, 2:34:00, Message: lmao\n",
      "User: bigfrogee, 2:34:42, Message: Good one I also hate destiny \n",
      "User: Fay, 2:35:22, Message: mustve been hard\n",
      "User: N. Aalders, 2:36:20, Message: this is just Richard Wolfe 2.0\n",
      "User: itssowacc, 2:37:26, Message: He is lying, it was not 2 hours in. Norm was disrespectful from the beginning \n",
      "User: Jakob Rosenstein, 2:38:37, Message: they cut the tap lmaooo\n",
      "User: Rakesh Mukhtar, 2:39:28, Message: legs \n",
      "User: Serena Terrelli , 2:40:02, Message: finkelstein reminds me of jordan peterson tbh\n",
      "User: DeStump, 2:40:43, Message: THOSE SHORTS :_destinyCoomer:\n",
      "User: Dogwater, 2:42:20, Message: Fiddle my diddle, Steven\n",
      "User: Ares Martinez, 2:44:04, Message: Hiiii Erudite \n",
      "User: Dogwater, 2:46:47, Message: :_destinyFeelsWeird:\n",
      "User: HrknessLovesU, 2:48:29, Message: :dog:\n",
      "User: David, 2:50:00, Message: :_destinyOMEGALUL:\n",
      "User: agawtdangedbear, 2:51:34, Message: okay so these two guys are self admittedly retarded\n",
      "User: c-star, 2:52:22, Message: lmfao\n",
      "User: luc. tapia, 2:53:52, Message: im down in the trenches\n",
      "User: agawtdangedbear, 2:55:54, Message: get a job broke boy \n",
      "User: Serena Terrelli , 2:58:03, Message: no you wouldn’t have lol \n",
      "User: Valsimot Karpis, 3:00:36, Message: RYAN, MY GOAT\n",
      "User: DelgaDude, 3:02:29, Message: Just use Tor fuck VPNs \n",
      "User: d0lvl0, 3:03:32, Message: a s(ill)y thing\n",
      "User: Jeremy, 3:05:33, Message: lmao\n",
      "User: iamsofired, 3:06:13, Message: hasan viewer\n",
      "User: vixaroth, 3:06:46, Message: Hasan did this\n",
      "User: Marrsund, 3:07:50, Message: the ummayads were literally toppled because they just couldnt stop oppressing minorities lol\n",
      "User: Some Guy, 3:09:32, Message: military centered autism got to be my favorite autism type\n",
      "User: NorggroN, 3:10:19, Message: lets go\n",
      "User: Teen Grogu, 3:12:28, Message: butter boy in what way\n",
      "User: Jack Hackenberg, 3:13:16, Message: This guy has some good information but is really cringe \n",
      "User: Serena Terrelli , 3:15:10, Message: isn’t it funny that congress passed that bill so quickly? seems like they CAN get shit done huh. \n",
      "User: Josh N., 3:16:11, Message: why would you use \"women squirts\" as a keywords???\n",
      "User: Rokson, 3:17:18, Message: nice\n",
      "User: Corpus Callosum, 3:19:07, Message: balls == testicles\n",
      "User: MrDJLaw, 3:21:58, Message: Texas Oblast?\n",
      "User: IrishSerpent, 3:25:22, Message: The bedbug thing was real and only in Paris no?\n",
      "User: Karma Ceutical, 3:28:01, Message: @Assygrin to destabilize their geopolitical rival\n",
      "User: prometheusunbound, 3:29:52, Message: yeah your wife knows alot about feminism\n",
      "User: Moe Jake, 3:31:37, Message: :face-orange-raised-eyebrow:\n",
      "User: Dogwater, 3:34:06, Message: I'M IN LOVE WITH MY LITTLE SISTER\n",
      "User: Moe Jake, 3:38:16, Message: 90% of chat is full of bots....\n",
      "User: Jason Roth, 3:40:41, Message: dnc plant\n",
      "User: Larry Marshall, 3:45:35, Message: @JJOP based \n",
      "User: TRON, 3:53:49, Message: @JJOP can't kidnap the kidnapper :eye:\n",
      "User: Stargazer, 3:55:11, Message: Throw in “fn”\n",
      "User: Mike Riley, 3:58:19, Message: @Destiny some lines could be real or nominal numbers\n",
      "User: Beexor, 4:01:25, Message: Vanderbilt is pretty high tier\n",
      "User: nethstar, 4:03:41, Message: @Destiny It's generally just specific to the type of work. In the creative industry it's not really a thing.\n",
      "User: Mike Pfunk, 4:06:17, Message: how to get the education without ever paying it back\n",
      "User: Juliam, 4:09:36, Message: Nate Diaz speak your mind \n",
      "User: TRON, 4:13:42, Message: @Dean I dropped out ya mom and made you\n",
      "User: Ryan Pukeko, 4:16:34, Message: he just lucked into it\n",
      "User: Charles Aviles, 4:18:12, Message: this guy cum's laude\n",
      "User: Nives, 4:21:42, Message: graduated top of his class but no one was willing to pay for him to go to school apparently\n",
      "User: Benjamin Reynolds, 4:24:00, Message: at a Community College\n",
      "User: ThisIsMyChannel, 4:26:01, Message: still harvard and history is relatively well respected\n",
      "User: B-Spiral, 4:28:55, Message: this conversation is kinda boring\n",
      "User: Adam Not22, 4:30:30, Message: I hate influencers advice on business and education. It’s so out of touch. Not everyone is a brand or is going to own a business. Advice is totally irrelevant to the average person.\n",
      "User: Sleep Para, 4:33:06, Message: Does he run a MLM?\n",
      "User: SGM, 4:35:01, Message: He added the stat to it too 1/8 are self driven it sounded like\n",
      "User: Mike Pfunk, 4:37:49, Message: they use your credit\n",
      "User: Cloudan, 4:41:26, Message: Oh this university/money arc is gonna be hell \n",
      "User: pokefluff97, 4:44:55, Message: duz an LLC get me rank one on the new skarner rework\n",
      "User: BurntToast, 4:48:42, Message: man without KoK we strugglin boys\n",
      "User: HorsesUnite, 4:49:46, Message: someone did\n",
      "User: K Kandola, 4:53:40, Message: Before 2008 and the Dodd-Frank act it was a lot easier to give out mortgages with poor underwriting \n",
      "User: Brian Medina, 4:58:46, Message: It was crazy bad ideas from the mortgage markets\n",
      "User: Christian Goodall, 5:01:37, Message: @brian Medina woah sir you’re using your brain we’re gonna need you to cool it there guy\n",
      "User: Dirty Paws, 5:05:11, Message: AIG was the major culprit. Because their swaps allowed banks to take out more leverage and when they defaulted - they caused a liquidity crunch\n",
      "User: TessInTheDress, 5:09:33, Message: Bring back the glass seagull\n",
      "User: 2k god fr, 5:16:59, Message: George made a new\n",
      "User: Wilson, 5:24:44, Message: STANDMAN62 ah cool cheers, would have thought so you'd have to do well to make it even \n",
      "User: asha999, 5:31:43, Message: Benjamin Dourney actually true\n",
      "User: RTPDiaries, 5:37:34, Message: smaller classrooms = success\n",
      "User: ischray, 5:42:49, Message: i hate this song\n",
      "User: feliznoviayestoyfeliz , 5:47:58, Message: don't US high schools have career advisors? why don't high school kids go to them on what to study?\n",
      "User: Paraphrase1, 5:52:30, Message: @Brien not really for me, but I get why you would think it. Indeed. Blink 182 if you can see me in chat - new code. \n",
      "User: AyatollahVulture, 6:00:03, Message: Annual Meme Wage\n",
      "User: The Goblin Hub, 6:06:42, Message: There he goes using only wikipedia for research smh\n",
      "User: TheDarkDevice, 6:12:13, Message: My box now. \n",
      "User: SuperMeGusta, 6:16:43, Message: civil engineering\n",
      "User: Content Gaming, 6:18:31, Message: Should do a few outside STEM because people are going to point out that a large amount of students get non STEM\n",
      "User: Hypercortical, 6:19:56, Message: philosophy is what people major in when they're planning to get a professional degree like law that's gonna make them a ton of money\n",
      "User: afrojew89, 6:22:52, Message: NFT technologists\n",
      "User: TheDarkDevice, 6:25:22, Message: Isn’t that just an anesthesiologist?\n",
      "User: Patek Phileep, 6:28:32, Message: :_destinyFeelsGood:\n",
      "User: Multiclasser, 6:30:43, Message: :face-fuchsia-wide-eyes:\n",
      "User: envi, 6:34:59, Message: DESTINIES\n",
      "User: Amaroosta, 6:38:59, Message: Yeah 8% is like half what my effective tax rate is\n",
      "User: אפרים, 6:44:25, Message: DC man\n",
      "User: David Mitchell, 6:47:50, Message: fuck the tax man\n",
      "User: Tamakuro, 6:52:36, Message: damn 1700 is actually impressive\n",
      "User: franco D, 6:54:21, Message: :body-green-covering-eyes:\n",
      "User: vixaroth, 6:55:52, Message: What an asshole\n",
      "User: Lacy K, 6:57:16, Message: now we're not going\n",
      "User: Steinsbarry, 6:58:37, Message: NOOOO\n",
      "User: langustenwurst, 7:00:21, Message: noo that's not what rose is...\n",
      "User: Mokey Blackblood, 7:04:36, Message: Gotta update that conspiracy firmware bro :_destinyDankMemes:\n",
      "User: TessInTheDress, 7:07:23, Message: that doesnt exist anymore\n",
      "User: Paul F, 7:08:48, Message: why wtf\n",
      "User: Lewa500, 7:10:52, Message: @A-TEAMFrostback This is Miami Beach, you stupid fuck\n",
      "User: GRUM, 7:13:07, Message: :_destinyFeelsWeird:\n",
      "User: Leon's Law, 7:14:57, Message: If youre rich before door dashing, you will be poor after\n",
      "User: Eric C, 7:16:45, Message: Just get it yourself \n",
      "User: Beezo, 7:18:15, Message: Just use your broken microwave\n",
      "User: YaKidneyStone, 7:21:12, Message: The cuts are fucking annoying as fuckkkkk\n",
      "User: DOFT, 7:23:17, Message: cutoff is 27\n",
      "User: Krayan, 7:25:15, Message: Really?????\n",
      "User: Audaylon, 7:28:19, Message: is he still yappin\n",
      "User: Wilson, 7:31:19, Message: She looks pretty fresh too\n",
      "User: maw, 7:34:47, Message: my god\n",
      "User: Keelr, 7:36:14, Message: :face-blue-wide-eyes:\n",
      "User: Marc M, 7:38:07, Message: \"fucked\" indeed\n",
      "User: FastAndBulbous, 7:39:18, Message: dont\n",
      "User: CreativZero, 7:39:40, Message: :_destinyDerpstiny:\n",
      "User: Black Ice, 7:40:15, Message: Stop edging me\n",
      "User: Ding dingus, 7:40:26, Message: No\n",
      "User: Toasty Aloutomo, 7:40:38, Message: I can kinda see it but like maybe 40% at most\n",
      "User: Ziggr, 7:41:41, Message: relying on him being so scared he wouldn't\n",
      "User: korewa schizo, 7:44:33, Message: :_destinyPepeMods: SIMPS\n",
      "User: NugKnight, 7:48:01, Message: If you asked republicans the same thing 20 years ago they would say Fuck the Commies go get Russia\n",
      "User: GweeGwee King, 7:49:53, Message: paid actor\n",
      "User: Lacy K, 7:52:08, Message: wut\n",
      "20471\n",
      "saved chat\n"
     ]
    }
   ],
   "source": [
    "from chat_downloader import ChatDownloader\n",
    "\n",
    "chat = ChatDownloader().get_chat(video_url)       # create a generator\n",
    "c_count=0\n",
    "all_chat_messages=[]\n",
    "all_chat_messages_str=\"\"\n",
    "for message in chat:                        # iterate over messages\n",
    "    #chat.print_formatted(message)   \n",
    "    chat_message_formatted=\"User: \"+message[\"author\"][\"name\"] +\", \"+message[\"time_text\"]+\", Message: \"+message[\"message\"]\n",
    "    all_chat_messages.append(chat_message_formatted)\n",
    "    all_chat_messages_str+=chat_message_formatted+\"\\n\"\n",
    "    if c_count%100==0:\n",
    "        print(chat_message_formatted) \n",
    "    c_count+=1\n",
    "print(c_count)\n",
    "\n",
    "# save chat string and messages\n",
    "with open(\"working_folder/\"+video_id+\"/chat.txt\",\"w\", encoding='utf-8') as f:\n",
    "    f.write(all_chat_messages_str)\n",
    "json.dump(all_chat_messages,open(\"working_folder/\"+video_id+\"/chat.json\",\"w\"))\n",
    "print(\"saved chat\")"
   ]
  },
  {
   "cell_type": "code",
   "execution_count": 14,
   "metadata": {},
   "outputs": [],
   "source": [
    "# load all chat messages\n",
    "all_chat_messages=json.load(open(\"working_folder/\"+video_id+\"/chat.json\"))"
   ]
  },
  {
   "cell_type": "code",
   "execution_count": 31,
   "metadata": {},
   "outputs": [
    {
     "data": {
      "text/plain": [
       "{'bot': 'Here is a synopsis of the topics and sentiments expressed in the transcript:\\n\\nSuicide and Men\\'s Mental Health:\\n- The speaker (Destiny) agrees with Dr. K\\'s viewpoint that many suicidal men are not clinically mentally ill, but rather feel their lives are not worth living due to their circumstances/outlook.\\n- He expresses that this perspective comes from empathy and trying to understand their mindset, rather than immediately dismissing it as wrong.\\n- He argues that much self-help content online just validates people\\'s existing harmful behaviors rather than challenging them to improve.\\n\\nJordan Peterson:\\n- Destiny believes Jordan Peterson was respected prior to his controversial takes around the C-16 bill.\\n- He sees Peterson\\'s clinical psychology practice as respectable, but dismisses his more recent cultural/political commentary as \"garbage.\"\\n\\nOverall, the main sentiments are:\\n1) Empathizing with perspectives you disagree with, rather than just dismissing them.\\n2) Criticism of self-help content that just validates harmful behaviors.\\n3) Separating respect for Peterson\\'s clinical work from rejection of his recent political stances.',\n",
       " 'transcript': \"e\\ne\\ne\\ne\\ne\\nwow hi what's\\nup\\nwould you agree with asmin\\ngold\\nso people are pissed off at Dr K so the\\nnumber one thing that correlates with\\nmale suicide is not depression this is\\nsuper scary there's one study I saw\\nrecently that suggests that 50% of men\\nwho kill themselves have no history or\\nevidence of mental illness and this I I\\nbelieve this statistic in in my clinical\\npractice because I know what depression\\nlooks like I know what bipolar disorder\\nlooks like and half the men that I've\\nworked with at least are not actually\\nmentally ill see mental illness means a\\npathology of the mind which means that\\nthe mind is malfunctioning most of the\\nsuicidal men that I work with they're\\nnot ma their mind isn't malfunctioning\\nthey genuinely have a life that is noer\\nworth living they're looking at things\\nand objectively realizing that there's\\nno way out of the situation so they turn\\nto Suicide so I know it's kind of like a\\nvery contral statement but I think\\nthat's what my clinical practice has\\nshown and there's some research to even\\nback that up so the number one so people\\nare mad about this people are pissed off\\nand it's like obviously he's not saying\\nthat they should kill themselves he's\\ntalking about it from their perspective\\nright it's like I haven't seen the\\ncontext but like tell me am I wrong\\nthat's clearly why it's like from their\\nperspective they think that their life\\nisn't going to get any better so like\\nthey logically come to this conclusion\\nrather than come to this conclusion\\nthrough a manifestation of some sort of\\nactual pathology of the mind like he\\nsays but people don't understand that\\nand they're getting pissed off at him\\nright this is crazy why live your life\\nis stupid well why not take a huge risk\\nwhat do you have to lose well that's\\nthat's again what you have to teach\\npeople right and that's clearly what the\\npoint is life's not worth living is\\n[\\xa0__\\xa0] intended to Pander to social\\nmedia audience no like bro I feel like\\nthat sometimes right like I remember\\nwhenever I was younger like I thought to\\nmyself I was like damn like whenever I\\nget older my life is just going to suck\\ndick more and more every year like why\\nam I alive right because like if you are\\nlike I don't know like especially under\\n21 things are going up right but like\\nwhenever you get to like I don't know a\\nbit after that you're going to feel like\\noh now things are going down you know\\nnow you're going to have more health\\nproblems now you're going bald your\\nparents are aging you have to get a job\\nlike when's like what's the next good\\nthing that's going to happen to you and\\nit's like if you can't find that you\\ndon't know where that is in your life of\\ncourse you're going to [\\xa0__\\xa0] think\\nthat doesn't mean that you're mentally\\nill it means that you're not you can see\\nwhat's going on in your own [\\xa0__\\xa0] life\\ndoesn't mean you should kill yourself\\nit's not the solution but that's the way\\npeople feel you have to understand it\\nlike if you want a tweet to do really\\nwell on Twitter you have to make the\\nTweet stupid because if the Tweet tries\\nto communicate an idea it won't work\\nbecause people on Twitter are stupid the\\nbest argument is not an argument you\\nhave to make people think something by\\nuh some form of other emotional\\npersuasion and I think that like really\\nwhat this shows is like in my opinion\\nlike this is in a way like actual\\nempathy where you can legitimately see\\nthe way another person feels like you\\nactually try to put yourselves in that\\nperson's shoes and think about how that\\nperson actually feels in the situation\\nrather than just going and being like\\nwell this is what I would do and this is\\nmy viewpoint and so you should do the\\nway that you should do it the way that I\\nthink that it should happen like what\\nthe [\\xa0__\\xa0] are you doing like that's not\\nyou that's not you bro like what is this\\nyeah so corrector yeah and and like I\\nthink that this this post here it goes\\nto show that how little people actually\\nhave empathy they don't really have any\\nempathy they just want to hear their\\nViewpoint repeated and they view people\\nthat uh you know repeat their Viewpoint\\nas empathetic and people who don't as\\nnot so much of the like dialogue and so\\nmuch of the like self-help and [\\xa0__\\xa0] like\\nthis on the Internet is actually in my\\nthis is my opinion is only there to make\\npeople feel good about bad decisions\\nthat they've already made and justify\\nfuture bad decisions it's not actually\\nthere to challenge the individual it's\\nnot there to improve their life it's\\nthere to validate their pre-existing\\nNotions and make them feel like they're\\ndoing the right thing and so we\\nshouldn't it shouldn't justify yeah\\nexactly and so like this is why for\\nexample you have all these people like\\nwhenever I say that you know you should\\nstop uh you know spending all your time\\non the internet playing video games all\\nthe time uh people get mad about this\\nand they say like oh well you know if\\nlike if your job is bad you should work\\ntowards getting a better job people get\\nmad about this why do they get mad about\\nthis it's very simple because people\\ndon't want to hear that what they're\\ndoing is wrong so this the type of like\\nself-help that happens on the Internet\\nis generally actually toxic because all\\nit does in the popular stuff is that it\\njust tells people that the bad thing\\nthat you're doing is actually okay and\\nit's not your fault what is the why am I\\nwatching this I feel like I generally\\ntend to agree with most things that ask\\nsays I feel like I've said like this\\nexact same thing before like the whole\\npoint of a diagnosis is you diagnose the\\nthings so that you can figure out how to\\nfix the thing but when most people go\\nonline to figure out problems with\\nthemselves they find problems with\\nthemselves they can make excuses for\\nwhat they do not to actually change any\\nthe behavior I feel like everybody said\\nall this I don't know why I'm pretty\\nsure pretty sure I would agree with\\nasmin on like most of\\nthis it's like the reason why you spend\\n12 hours a day jerking off to furry porn\\nfor animals that don't exist isn't\\nbecause there's something wrong with you\\nand you need to get a job no it's\\nbecause of capitalism and Donald Trump\\nlike the reason why you can't get a\\ngirlfriend isn't because you have thir\\ndifferent figurines of llies that like\\nyou don't want to shine a black light on\\nthem on that's not the reason why you\\ncan't get a girlfriend it's because of\\nwhole flation and women nowadays only\\nwant to [\\xa0__\\xa0] Chads and the internet is\\nout to get\\nme like and this is the thing right so\\nit's like why is it you just always get\\nto hear the thing that reaffirms what\\nyou're already doing it's whole flation\\nyeah that's right guys and so this is\\nwhat happens right and so like whenever\\nyou have somebody like Dr k who's\\nactually trying to help people who's\\nactually trying to help people and isn't\\nafraid of you know like oh somebody\\nmight take this the wrong way or\\nwhatever treats people like adults you\\nsee the um the programming with people\\nthat have so many different levels of\\nlearned helplessness that are just like\\nhardcoded into them they're just\\nmalfunctioning because they're not\\nhearing the thing that makes them feel\\ngood you're right [\\xa0__\\xa0] NPCs that's\\nright drives me [\\xa0__\\xa0] crazy what he\\nsaid is dangerous yeah and what other\\npeople say is dangerous anything can be\\ndangerous to anyone what's your point\\nyeah Forks are more dangerous again he's\\nspeaking out of empathy yeah actual\\nempathy and that's what I was saying\\nbefore about how so many people don't\\neven have the context to even understand\\nwhat real empathy is and whenever they\\nsee it demonstrated in video form\\nthey're just like they they they they\\nactually can't think of themselves as\\nanother person they can't this is one of\\nthe things that I talk about um when it\\ncomes to people that do the\\num like the Relentless\\nvalidation is people think\\nthat\\n[\\xa0__\\xa0] I don't ever want to give him\\ncredit for anything but\\num I've never actually heard him do a\\nvideo on this I just saw a tweet on this\\npeople think that you can never have too\\nmuch compassion um or people think that\\nuh you know as long as you're validating\\nsomeone at least you're like trying to\\nhelp them but that's not true validating\\nsomebody or over validating somebody I\\nthink comes I don't I want to say comes\\nfrom but it's it's a similar type of\\nthing to like roasting the [\\xa0__\\xa0] out of\\nsomebody or tearing somebody down at the\\nend of the day you're just doing it\\nbecause it makes you feel better you\\nvalidate somebody because it makes you\\nfeel better because you think that\\nyou're helping them even if you're not\\nor you tear somebody down because makes\\nyou feel better even if it's not help\\nthem at all CU whatever maybe they come\\nfrom slightly different places but at\\nthe end of the day they're all self-\\nserving um people that people that over\\nvalidate people because it makes them\\nfeel good it makes them feel like\\nthey're helping but they don't actually\\nhelp somebody get help or do something\\nthey do to prove themselves is really\\nfrustrating I'm curious what he says in\\nthis I've never actually listened to him\\ndo a video on this I saw him he tweeted\\nout some like toxic compassion as the\\nother end of\\ntoxic like Behavior or something but\\nyeah I know Norm thinkle see a sort of a\\nlaughing stock in academic circles but\\nbased on psych people you've talked to\\nis Jordan Peterson respected at all\\nJordan\\nPeterson's here's the thing Jordan\\nPeterson I'm pretty sure was respected\\nbut I don't think he was very\\ncontroversial like I don't think any of\\nthe things that Jordan Peterson said\\nprior to like the c16 [\\xa0__\\xa0] I don't think\\nmany things were very controversial um\\nlike he had a practice where he actually\\nlike helped people and saw you know\\nwomen and help them do better in their\\njobs and blah blah blah so I mean like\\nhe was literally practicing uh clinician\\nthat did psychology but the um but his\\nhis medical takes after c16 and\\neverything are are garbage like so\\nobviously I'm more aware of the areas of\\nlike ADHD like everythin\",\n",
       " 'time_string': 'Start time 00:00:28.960  End time 00:12:50.440',\n",
       " 'char_start_finsih_indexes': [0, 10000],\n",
       " 'index': 0,\n",
       " 'start_second': 28.96,\n",
       " 'end_second': 770.44}"
      ]
     },
     "execution_count": 31,
     "metadata": {},
     "output_type": "execute_result"
    }
   ],
   "source": [
    "transcript_segment"
   ]
  },
  {
   "cell_type": "code",
   "execution_count": 46,
   "metadata": {},
   "outputs": [],
   "source": [
    "# get chat segment for summary segment\n",
    "transcript_segment=model_responses[0]\n",
    "\n",
    "start_time=transcript_segment[\"start_second\"]\n",
    "end_time=transcript_segment[\"end_second\"]\n",
    "\n",
    "\n",
    "\n",
    "chats_in_segment=[]\n",
    "chats_txt=\"\"\n",
    "chat_before_end=True\n",
    "i=0\n",
    "while chat_before_end:\n",
    "    try:\n",
    "        # Get chat time\n",
    "        chat_msg_time=all_chat_messages[i].split(\",\")[1].split(\" \")[-1]\n",
    "        if chat_msg_time.count(\":\")==1:\n",
    "            chat_time=datetime.datetime.strptime(chat_msg_time, '%M:%S')\n",
    "            chat_time=chat_time.minute*60+chat_time.second\n",
    "        else:\n",
    "            chat_time=datetime.datetime.strptime(chat_msg_time, '%H:%M:%S')\n",
    "            chat_time=chat_time.hour*3600+chat_time.minute*60+chat_time.second\n",
    "        \n",
    "        if chat_time>end_time:\n",
    "            chat_before_end=False\n",
    "        elif chat_time>start_time:\n",
    "            #print(all_chat_messages[i])\n",
    "            chats_in_segment.append(all_chat_messages[i])\n",
    "            chats_txt+=all_chat_messages[i]+\"\\n\"\n",
    "    except:\n",
    "        pass\n",
    "    i+=1\n",
    "            \n",
    "\n",
    "# # Get all chat messages in segment\n",
    "# for i in range(len(all_chat_messages)):\n",
    "#     try:\n",
    "#         chat_msg_time=all_chat_messages[i].split(\",\")[1].split(\" \")[-1]\n",
    "#         if chat_msg_time.count(\":\")==1:\n",
    "#             chat_time=datetime.datetime.strptime(chat_msg_time, '%M:%S')\n",
    "#             chat_time=chat_time.minute*60+chat_time.second\n",
    "#         else:\n",
    "#             chat_time=datetime.datetime.strptime(chat_msg_time, '%H:%M:%S')\n",
    "#             chat_time=chat_time.hour*3600+chat_time.minute*60+chat_time.second\n",
    "#     except:\n",
    "#         pass\n",
    "\n",
    "#while "
   ]
  },
  {
   "cell_type": "code",
   "execution_count": 57,
   "metadata": {},
   "outputs": [
    {
     "name": "stdout",
     "output_type": "stream",
     "text": [
      "8390\n",
      "Here are the main serious sentiments, questions and on-topic messages I gathered from the chat:\n",
      "\n",
      "Suicide and Men's Mental Health:\n",
      "- Chat empathized with Destiny's perspective of trying to understand the mindset of suicidal men who feel their lives are not worth living due to circumstances, rather than just dismissing it. There was agreement that much online self-help content just validates harmful behaviors rather than challenging people to improve.\n",
      "\n",
      "Jordan Peterson:\n",
      "- There was respect expressed for Jordan Peterson's past clinical psychology work, but criticism of his more recent political/cultural commentary as \"garbage.\"\n",
      "- Some felt Peterson became respected by offering basic self-improvement advice like \"clean your room\", but then went off the rails.\n",
      "\n",
      "Empathy vs Validation:\n",
      "- Chat agreed with the importance of empathizing with perspectives you disagree with, rather than just dismissively validating harmful behaviors/mindsets. \n",
      "- However, some argued that for people in really difficult circumstances, some level of validating content can be helpful as a first step before pushing them to make bigger changes.\n",
      "\n",
      "Self-Improvement Content:\n",
      "- There was discussion that much online self-improvement content demonizes things like playing video games as unproductive, when some level of leisure activity is okay.\n",
      "- The key is honestly evaluating your life and making positive changes, rather than just seeking constant validation.\n",
      "\n",
      "Overall, the main sentiments were similar to the summary - empathizing while still pushing for real self-improvement, separating respect for Jordan Peterson's past work from criticism of his recent rhetoric, and the balance between validating content and challenging people to be better."
     ]
    }
   ],
   "source": [
    "# Chat summary\n",
    "bot_response=\"\"\n",
    "chat_summary_prompt=\"You are meant to summarize serious messages in chat and get a general sentiment of the chat as well as pull out the repeated serious sentiments or serious questions or on topic messages. The user will give you all the chat messages with username\\nMessage.\\n\\nYou will also be given the summary of the transcript of the livestream that the chat is facing which you can use to evalute who is on topic and better sense sentiment.\"\n",
    "\n",
    "user_prompt=\"Here is the transcript summary: {transcript_summary}\\n\\nHere is the chat: {chat}\"\n",
    "f_user_prompt=user_prompt.format(transcript_summary=transcript_segment[\"bot\"], chat=chats_txt)\n",
    "\n",
    "print(len(enc.encode(f_user_prompt)))\n",
    "proceed_str=input(\"Proceed with chat summary? (y/n)\")\n",
    "if proceed_str==\"y\":        \n",
    "    with anthropic_client.messages.stream(\n",
    "            max_tokens=4096,\n",
    "            system=chat_summary_prompt,\n",
    "            messages=[{\"role\":\"user\", \"content\": user_prompt.format(transcript_summary=transcript_segment[\"bot\"], chat=chats_txt)}],\n",
    "            model=\"claude-3-sonnet-20240229\",\n",
    "            #model=\"claude-3-haiku-20240307\"\n",
    "        ) as stream:\n",
    "            for text in stream.text_stream:\n",
    "                bot_response+=text\n",
    "                print(text, end=\"\", flush=True)\n",
    "else:\n",
    "    print(\"Process cancelled\")"
   ]
  },
  {
   "cell_type": "code",
   "execution_count": 58,
   "metadata": {},
   "outputs": [
    {
     "name": "stdout",
     "output_type": "stream",
     "text": [
      "8390\n",
      "Sure, here are the specific comments I'm referring to:\n",
      "\n",
      "Suicide and Men's Mental Health:\n",
      "- \"Chat empathized with Destiny's perspective of trying to understand the mindset of suicidal men who feel their lives are not worth living due to circumstances, rather than just dismissing it.\" This is supported by comments like:\n",
      "\"I'm not suicidal:_destinyDaFeels:\" from Raiders Cat⚔ at 4:44\n",
      "\":_destinyDaFeels::_destinyDaFeels::_destinyDaFeels:\" from Anirudh Prakash at 4:45\n",
      "\n",
      "- \"There was agreement that much online self-help content just validates harmful behaviors rather than challenging people to improve.\" This is supported by comments like: \n",
      "\"It's the responsibility inherent in determinism that you need to take constant action\" from Fung Dark at 5:37\n",
      "\"cbt teaches u to change ur mind\" from geeese jeeeze at 5:38\n",
      "\n",
      "Jordan Peterson:\n",
      "- \"There was respect expressed for Jordan Peterson's past clinical psychology work, but criticism of his more recent political/cultural commentary as 'garbage.'\" This is supported by comments like:\n",
      "\"Jordan Peterson lost his mind\" from Lacy K at 12:43\n",
      "\"He just told people to clean their rooms\" from GodsChosen at 12:40\n",
      "\n",
      "Empathy vs Validation:\n",
      "- \"Chat agreed with the importance of empathizing with perspectives you disagree with, rather than just dismissively validating harmful behaviors/mindsets.\" This is supported by comments like:\n",
      "\"Empathy is key.\" from Conservative Gaming at 7:02\n",
      "\"There is something wrong with u\" from geeese jeeeze at 9:42\n",
      "\n",
      "- \"However, some argued that for people in really difficult circumstances, some level of validating content can be helpful as a first step before pushing them to make bigger changes.\" This is supported by a comment like:\n",
      "\"if you're in a really bad place that feel-good stuff can help, but overall you need to take an honest look at your life if you have problems with something\" from Nick M at 12:46"
     ]
    }
   ],
   "source": [
    "# Where\n",
    "print(len(enc.encode(f_user_prompt)))\n",
    "proceed_str=input(\"Proceed with chat summary? (y/n)\")\n",
    "chat_query_prompt=\" For each topic you are meant to pull out each individual comment that was mentioned to be related to that topic. You have to be thourough.\"\n",
    "chat_query_response=\"\"\n",
    "if proceed_str==\"y\":        \n",
    "    with anthropic_client.messages.stream(\n",
    "            max_tokens=4096,\n",
    "            system=chat_summary_prompt,\n",
    "            messages=[{\"role\":\"user\", \"content\": user_prompt.format(transcript_summary=transcript_segment[\"bot\"], chat=chats_txt)}, {\"role\":\"assistant\", \"content\":bot_response},{\"role\":\"user\", \"content\": \"Can you say which comments you are reffering to now? Mention what claim they support and their full message including username and time.\"}],\n",
    "            #model=\"claude-3-sonnet-20240229\",\n",
    "            model=\"claude-3-haiku-20240307\"\n",
    "        ) as stream:\n",
    "            for text in stream.text_stream:\n",
    "                chat_query_response+=text\n",
    "                print(text, end=\"\", flush=True)\n",
    "else:\n",
    "    print(\"Process cancelled\")"
   ]
  }
 ],
 "metadata": {
  "kernelspec": {
   "display_name": "env",
   "language": "python",
   "name": "python3"
  },
  "language_info": {
   "codemirror_mode": {
    "name": "ipython",
    "version": 3
   },
   "file_extension": ".py",
   "mimetype": "text/x-python",
   "name": "python",
   "nbconvert_exporter": "python",
   "pygments_lexer": "ipython3",
   "version": "3.11.3"
  }
 },
 "nbformat": 4,
 "nbformat_minor": 2
}
